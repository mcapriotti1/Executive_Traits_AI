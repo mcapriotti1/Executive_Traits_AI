{
 "cells": [
  {
   "cell_type": "code",
   "execution_count": 1,
   "id": "63237b9a-3f7b-4d7d-b3f8-fbdd2916d6a6",
   "metadata": {},
   "outputs": [],
   "source": [
    "from AllUtils import *"
   ]
  },
  {
   "cell_type": "code",
   "execution_count": 2,
   "id": "016212b4-7098-424c-b3b5-3d0c12a27c9e",
   "metadata": {},
   "outputs": [],
   "source": [
    "filename = '1990_Test.xlsx'"
   ]
  },
  {
   "cell_type": "code",
   "execution_count": 3,
   "id": "64dd09ac-1f01-4cef-ab31-1009ea17c635",
   "metadata": {},
   "outputs": [],
   "source": [
    "num_rows, start_row = extract_columns_to_file(filename, max_rows=50)"
   ]
  },
  {
   "cell_type": "code",
   "execution_count": 4,
   "id": "9c8749f9-9c75-4285-bcc2-2ff4234a92a0",
   "metadata": {},
   "outputs": [],
   "source": [
    "process_excel_and_extract_columns(start_row, filename)"
   ]
  },
  {
   "cell_type": "code",
   "execution_count": 5,
   "id": "edd779a7-08bc-4f10-a40e-1093c725d9d3",
   "metadata": {},
   "outputs": [],
   "source": [
    "download_images(\"excel_data/link_data.txt\", \"downloaded_images\")"
   ]
  },
  {
   "cell_type": "code",
   "execution_count": 6,
   "id": "363866ae-bf5a-4834-b201-58008d1093cb",
   "metadata": {},
   "outputs": [],
   "source": [
    "convert_images_to_text_files(r'downloaded_images', r'text_files')"
   ]
  },
  {
   "cell_type": "code",
   "execution_count": 7,
   "id": "7e69a481-7ac3-4ca0-b42f-797dad293a58",
   "metadata": {},
   "outputs": [],
   "source": [
    "combine_files(folder, file1, file2, file3, output_file)"
   ]
  },
  {
   "cell_type": "code",
   "execution_count": 8,
   "id": "117d4b51-0feb-4b12-b8b8-b8779e23f4a7",
   "metadata": {},
   "outputs": [],
   "source": [
    "combine_text_files(text_files_folder=r'text_files', output_folder=r'text_files')"
   ]
  },
  {
   "cell_type": "code",
   "execution_count": 9,
   "id": "c3bda0ee-d473-4cdc-8cca-622502201593",
   "metadata": {},
   "outputs": [],
   "source": [
    "combine_all(excel_data_file, images_folder, custom_message, output_folder=r'gpt_input')"
   ]
  },
  {
   "cell_type": "code",
   "execution_count": 10,
   "id": "0bc0a7e9-dbed-4926-a26d-4356344fbaf8",
   "metadata": {},
   "outputs": [],
   "source": [
    "process_files(input_folder='gpt_input', output_folder='gpt_final_input')"
   ]
  },
  {
   "cell_type": "code",
   "execution_count": 11,
   "id": "38ce3be0-9ba7-4eee-adcb-25dd58691629",
   "metadata": {},
   "outputs": [],
   "source": [
    "if __name__ == \"__main__\":\n",
    "    asyncio.run(process_gpt_files())"
   ]
  },
  {
   "cell_type": "code",
   "execution_count": 12,
   "id": "72e9005e-5419-4243-a37e-fc7d38401650",
   "metadata": {},
   "outputs": [],
   "source": [
    "asyncio.get_event_loop().run_until_complete(scrape_text_from_website())"
   ]
  },
  {
   "cell_type": "code",
   "execution_count": 13,
   "id": "90e5e2c2-30f0-4b19-b9bb-c9ae98451979",
   "metadata": {},
   "outputs": [],
   "source": [
    "move_folders([\"text_files\", \"gpt_input\", \"gpt_final_input\", \"excel_data\", \"downloaded_images\"], \"All_Inputs\")"
   ]
  },
  {
   "cell_type": "code",
   "execution_count": null,
   "id": "60f0b4d0-69f1-4e0e-83cb-9022bca027e5",
   "metadata": {},
   "outputs": [],
   "source": [
    "delete_all_files_in_folders([\"text_files\", \"gpt_input\", \"gpt_final_input\", \"excel_data\", \"downloaded_images\", \"All_Inputs\", \"gpt_output\"])"
   ]
  }
 ],
 "metadata": {
  "kernelspec": {
   "display_name": "Python 3 (ipykernel)",
   "language": "python",
   "name": "python3"
  },
  "language_info": {
   "codemirror_mode": {
    "name": "ipython",
    "version": 3
   },
   "file_extension": ".py",
   "mimetype": "text/x-python",
   "name": "python",
   "nbconvert_exporter": "python",
   "pygments_lexer": "ipython3",
   "version": "3.12.6"
  }
 },
 "nbformat": 4,
 "nbformat_minor": 5
}
