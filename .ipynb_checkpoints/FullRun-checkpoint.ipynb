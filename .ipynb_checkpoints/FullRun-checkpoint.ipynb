{
 "cells": [
  {
   "cell_type": "code",
   "execution_count": 1,
   "id": "63237b9a-3f7b-4d7d-b3f8-fbdd2916d6a6",
   "metadata": {},
   "outputs": [
    {
     "ename": "ModuleNotFoundError",
     "evalue": "No module named 'ExcelUtils'",
     "output_type": "error",
     "traceback": [
      "\u001b[1;31m---------------------------------------------------------------------------\u001b[0m",
      "\u001b[1;31mModuleNotFoundError\u001b[0m                       Traceback (most recent call last)",
      "Cell \u001b[1;32mIn[1], line 1\u001b[0m\n\u001b[1;32m----> 1\u001b[0m \u001b[38;5;28;01mfrom\u001b[39;00m \u001b[38;5;21;01mExcelUtils\u001b[39;00m \u001b[38;5;28;01mimport\u001b[39;00m \u001b[38;5;241m*\u001b[39m\n",
      "\u001b[1;31mModuleNotFoundError\u001b[0m: No module named 'ExcelUtils'"
     ]
    }
   ],
   "source": [
    "from AllUtils import *"
   ]
  },
  {
   "cell_type": "code",
   "execution_count": null,
   "id": "016212b4-7098-424c-b3b5-3d0c12a27c9e",
   "metadata": {},
   "outputs": [],
   "source": [
    "filename = '1990_Test.xlsx'"
   ]
  },
  {
   "cell_type": "code",
   "execution_count": null,
   "id": "64dd09ac-1f01-4cef-ab31-1009ea17c635",
   "metadata": {},
   "outputs": [],
   "source": [
    "num_rows, start_row = extract_columns_to_file(filename, max_rows=50)"
   ]
  },
  {
   "cell_type": "code",
   "execution_count": null,
   "id": "9c8749f9-9c75-4285-bcc2-2ff4234a92a0",
   "metadata": {},
   "outputs": [],
   "source": [
    "process_excel_and_extract_columns(start_row, filename)"
   ]
  },
  {
   "cell_type": "code",
   "execution_count": null,
   "id": "edd779a7-08bc-4f10-a40e-1093c725d9d3",
   "metadata": {},
   "outputs": [],
   "source": [
    "download_images(\"excel_data/link_data.txt\", \"downloaded_images\")"
   ]
  },
  {
   "cell_type": "code",
   "execution_count": null,
   "id": "363866ae-bf5a-4834-b201-58008d1093cb",
   "metadata": {},
   "outputs": [],
   "source": [
    "convert_images_to_text_files(r'downloaded_images', r'text_files')"
   ]
  },
  {
   "cell_type": "code",
   "execution_count": null,
   "id": "7e69a481-7ac3-4ca0-b42f-797dad293a58",
   "metadata": {},
   "outputs": [],
   "source": [
    "combine_files(folder, file1, file2, file3, output_file)"
   ]
  },
  {
   "cell_type": "code",
   "execution_count": null,
   "id": "117d4b51-0feb-4b12-b8b8-b8779e23f4a7",
   "metadata": {},
   "outputs": [],
   "source": [
    "combine_text_files(text_files_folder=r'text_files', output_folder=r'text_files')"
   ]
  },
  {
   "cell_type": "code",
   "execution_count": null,
   "id": "c3bda0ee-d473-4cdc-8cca-622502201593",
   "metadata": {},
   "outputs": [],
   "source": [
    "combine_all(excel_data_file, images_folder, custom_message, output_folder=r'gpt_input')"
   ]
  },
  {
   "cell_type": "code",
   "execution_count": null,
   "id": "0bc0a7e9-dbed-4926-a26d-4356344fbaf8",
   "metadata": {},
   "outputs": [],
   "source": [
    "process_files(input_folder='gpt_input', output_folder='gpt_final_input')"
   ]
  },
  {
   "cell_type": "code",
   "execution_count": null,
   "id": "38ce3be0-9ba7-4eee-adcb-25dd58691629",
   "metadata": {},
   "outputs": [],
   "source": [
    "if __name__ == \"__main__\":\n",
    "    asyncio.run(process_gpt_files())"
   ]
  },
  {
   "cell_type": "code",
   "execution_count": null,
   "id": "72e9005e-5419-4243-a37e-fc7d38401650",
   "metadata": {},
   "outputs": [],
   "source": [
    "asyncio.get_event_loop().run_until_complete(scrape_text_from_website())"
   ]
  },
  {
   "cell_type": "code",
   "execution_count": null,
   "id": "60f0b4d0-69f1-4e0e-83cb-9022bca027e5",
   "metadata": {},
   "outputs": [],
   "source": [
    "folder_paths = [\"excel_data\", \"downloaded_images\", \"text_files\", \"gpt_input\", \"gpt_output\", \"gpt_real_input\", \"combined_gpt_output\", \"gpt_final_input\"]\n",
    "delete_all_files_in_folders(folder_paths)"
   ]
  },
  {
   "cell_type": "code",
   "execution_count": null,
   "id": "fab41f15-a7c1-4db5-b896-c4e8e88d4546",
   "metadata": {},
   "outputs": [],
   "source": []
  }
 ],
 "metadata": {
  "kernelspec": {
   "display_name": "Python 3 (ipykernel)",
   "language": "python",
   "name": "python3"
  },
  "language_info": {
   "codemirror_mode": {
    "name": "ipython",
    "version": 3
   },
   "file_extension": ".py",
   "mimetype": "text/x-python",
   "name": "python",
   "nbconvert_exporter": "python",
   "pygments_lexer": "ipython3",
   "version": "3.12.6"
  }
 },
 "nbformat": 4,
 "nbformat_minor": 5
}
